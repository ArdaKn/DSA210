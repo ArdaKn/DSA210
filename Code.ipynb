{
  "nbformat": 4,
  "nbformat_minor": 0,
  "metadata": {
    "colab": {
      "provenance": [],
      "authorship_tag": "ABX9TyMTnWtPyQ+veO0SFqXCtUtN",
      "include_colab_link": true
    },
    "kernelspec": {
      "name": "python3",
      "display_name": "Python 3"
    },
    "language_info": {
      "name": "python"
    }
  },
  "cells": [
    {
      "cell_type": "markdown",
      "metadata": {
        "id": "view-in-github",
        "colab_type": "text"
      },
      "source": [
        "<a href=\"https://colab.research.google.com/github/ArdaKn/DSA210/blob/main/Code.ipynb\" target=\"_parent\"><img src=\"https://colab.research.google.com/assets/colab-badge.svg\" alt=\"Open In Colab\"/></a>"
      ]
    },
    {
      "cell_type": "code",
      "execution_count": 7,
      "metadata": {
        "colab": {
          "base_uri": "https://localhost:8080/"
        },
        "id": "_YgFAAoLknLu",
        "outputId": "3427f3b2-7fa6-4e5d-b2d4-b45fe68b672e",
        "collapsed": true
      },
      "outputs": [
        {
          "output_type": "stream",
          "name": "stdout",
          "text": [
            "--- Hypothesis Testing Results ---\n",
            "Pearson correlation coefficient: r = 0.617, p-value = 0.0327\n",
            "Spearman correlation coefficient: r = 0.573, p-value = 0.0513\n"
          ]
        }
      ],
      "source": [
        "import pandas as pd\n",
        "import matplotlib.pyplot as plt\n",
        "import seaborn as sns\n",
        "from scipy.stats import pearsonr, spearmanr\n",
        "\n",
        "passenger_data = pd.read_csv('monthly_passenger_counts_enriched.csv')\n",
        "gas_data = pd.read_csv('gas_prices_enriched.csv')\n",
        "\n",
        "# --- Merge Datasets ---\n",
        "# Assuming both are monthly data and ordered by month correctly\n",
        "merged = pd.concat([passenger_data, gas_data.reset_index(drop=True)], axis=1)\n",
        "\n",
        "# --- Line Plot: Gas Price and Per Capita Ridership ---\n",
        "plt.figure(figsize=(10, 6))\n",
        "plt.plot(merged['month'], merged['gas_price'], label='Gas Price (TRY)', marker='o')\n",
        "plt.plot(merged['month'], merged['per_capita_ridership']*10000, label='Per Capita Ridership (*10k)', marker='x')\n",
        "plt.title('Gas Price and Per Capita Ridership Over Time')\n",
        "plt.xlabel('Month')\n",
        "plt.ylabel('Values')\n",
        "plt.legend()\n",
        "plt.grid(True)\n",
        "plt.savefig('lineplot_gas_ridership.png')\n",
        "plt.close()\n",
        "\n",
        "# --- Scatter Plot: Gas Price vs Per Capita Ridership ---\n",
        "plt.figure(figsize=(8, 6))\n",
        "sns.scatterplot(x=merged['gas_price'], y=merged['per_capita_ridership'])\n",
        "plt.title('Gas Price vs Per Capita Ridership')\n",
        "plt.xlabel('Gas Price (TRY)')\n",
        "plt.ylabel('Per Capita Ridership')\n",
        "plt.grid(True)\n",
        "plt.savefig('scatterplot_gas_vs_ridership.png')\n",
        "plt.close()\n",
        "\n",
        "# --- Correlation Heatmap ---\n",
        "correlation_matrix = merged[['gas_price', 'percent_change', 'total_passengers', 'per_capita_ridership']].corr()\n",
        "plt.figure(figsize=(8, 6))\n",
        "sns.heatmap(correlation_matrix, annot=True, cmap='coolwarm', fmt='.2f')\n",
        "plt.title('Correlation Matrix')\n",
        "plt.savefig('correlation_heatmap.png')\n",
        "plt.close()\n",
        "\n",
        "# --- Hypothesis Testing ---\n",
        "# Pearson and Spearman between gas_price and per_capita_ridership\n",
        "pearson_coef, pearson_p = pearsonr(merged['gas_price'], merged['per_capita_ridership'])\n",
        "spearman_coef, spearman_p = spearmanr(merged['gas_price'], merged['per_capita_ridership'])\n",
        "\n",
        "print(\"--- Hypothesis Testing Results ---\")\n",
        "print(f\"Pearson correlation coefficient: r = {pearson_coef:.3f}, p-value = {pearson_p:.4f}\")\n",
        "print(f\"Spearman correlation coefficient: r = {spearman_coef:.3f}, p-value = {spearman_p:.4f}\")\n",
        "\n",
        "# --- Summary Output for README ---\n",
        "with open(\"hypothesis_results.txt\", \"w\") as f:\n",
        "    f.write(\"--- Hypothesis Testing Results ---\\n\")\n",
        "    f.write(f\"Pearson correlation coefficient: r = {pearson_coef:.3f}, p-value = {pearson_p:.4f}\\n\")\n",
        "    f.write(f\"Spearman correlation coefficient: r = {spearman_coef:.3f}, p-value = {spearman_p:.4f}\\n\")\n",
        "    if pearson_p < 0.05:\n",
        "        f.write(\"At 5% significance level, we reject the null hypothesis: There is a significant relationship between gas prices and public transport usage.\\n\")\n",
        "    else:\n",
        "        f.write(\"At 5% significance level, we fail to reject the null hypothesis: No significant relationship found.\\n\")\n"
      ]
    }
  ]
}